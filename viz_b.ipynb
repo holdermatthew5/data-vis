{
 "metadata": {
  "language_info": {
   "codemirror_mode": {
    "name": "ipython",
    "version": 3
   },
   "file_extension": ".py",
   "mimetype": "text/x-python",
   "name": "python",
   "nbconvert_exporter": "python",
   "pygments_lexer": "ipython3",
   "version": "3.9.0-final"
  },
  "orig_nbformat": 2,
  "kernelspec": {
   "name": "python3",
   "display_name": "Python 3",
   "language": "python"
  }
 },
 "nbformat": 4,
 "nbformat_minor": 2,
 "cells": [
  {
   "cell_type": "code",
   "execution_count": 1,
   "metadata": {},
   "outputs": [],
   "source": [
    "import matplotlib.pyplot as plt\n",
    "import seaborn as sns\n",
    "import pandas as pd"
   ]
  },
  {
   "cell_type": "code",
   "execution_count": 8,
   "metadata": {},
   "outputs": [
    {
     "output_type": "execute_result",
     "data": {
      "text/plain": [
       "    mpg  cylinders  displacement  horsepower  weight  acceleration  \\\n",
       "0  18.0          8         307.0       130.0    3504          12.0   \n",
       "\n",
       "   model_year origin                       name  \n",
       "0          70    usa  chevrolet chevelle malibu  "
      ],
      "text/html": "<div>\n<style scoped>\n    .dataframe tbody tr th:only-of-type {\n        vertical-align: middle;\n    }\n\n    .dataframe tbody tr th {\n        vertical-align: top;\n    }\n\n    .dataframe thead th {\n        text-align: right;\n    }\n</style>\n<table border=\"1\" class=\"dataframe\">\n  <thead>\n    <tr style=\"text-align: right;\">\n      <th></th>\n      <th>mpg</th>\n      <th>cylinders</th>\n      <th>displacement</th>\n      <th>horsepower</th>\n      <th>weight</th>\n      <th>acceleration</th>\n      <th>model_year</th>\n      <th>origin</th>\n      <th>name</th>\n    </tr>\n  </thead>\n  <tbody>\n    <tr>\n      <th>0</th>\n      <td>18.0</td>\n      <td>8</td>\n      <td>307.0</td>\n      <td>130.0</td>\n      <td>3504</td>\n      <td>12.0</td>\n      <td>70</td>\n      <td>usa</td>\n      <td>chevrolet chevelle malibu</td>\n    </tr>\n  </tbody>\n</table>\n</div>"
     },
     "metadata": {},
     "execution_count": 8
    }
   ],
   "source": [
    "vac = sns.load_dataset('mpg')\n",
    "vac.head(1)"
   ]
  },
  {
   "cell_type": "code",
   "execution_count": 4,
   "metadata": {},
   "outputs": [
    {
     "output_type": "execute_result",
     "data": {
      "text/plain": [
       "14.963106796116506"
      ]
     },
     "metadata": {},
     "execution_count": 4
    }
   ],
   "source": [
    "vac[vac['cylinders'] == 8]['mpg'].mean()"
   ]
  },
  {
   "cell_type": "code",
   "execution_count": 5,
   "metadata": {},
   "outputs": [
    {
     "output_type": "execute_result",
     "data": {
      "text/plain": [
       "19.985714285714284"
      ]
     },
     "metadata": {},
     "execution_count": 5
    }
   ],
   "source": [
    "vac[vac['cylinders'] == 6]['mpg'].mean()"
   ]
  },
  {
   "cell_type": "code",
   "execution_count": 6,
   "metadata": {},
   "outputs": [
    {
     "output_type": "execute_result",
     "data": {
      "text/plain": [
       "29.28676470588235"
      ]
     },
     "metadata": {},
     "execution_count": 6
    }
   ],
   "source": [
    "vac[vac['cylinders'] == 4]['mpg'].mean()"
   ]
  },
  {
   "cell_type": "code",
   "execution_count": 9,
   "metadata": {},
   "outputs": [
    {
     "output_type": "execute_result",
     "data": {
      "text/plain": [
       "12.955339805825243"
      ]
     },
     "metadata": {},
     "execution_count": 9
    }
   ],
   "source": [
    "vac[vac['cylinders'] == 8]['acceleration'].mean()"
   ]
  },
  {
   "cell_type": "code",
   "execution_count": 10,
   "metadata": {},
   "outputs": [
    {
     "output_type": "execute_result",
     "data": {
      "text/plain": [
       "16.26309523809524"
      ]
     },
     "metadata": {},
     "execution_count": 10
    }
   ],
   "source": [
    "vac[vac['cylinders'] == 6]['acceleration'].mean()"
   ]
  },
  {
   "cell_type": "code",
   "execution_count": 11,
   "metadata": {},
   "outputs": [
    {
     "output_type": "execute_result",
     "data": {
      "text/plain": [
       "16.601470588235294"
      ]
     },
     "metadata": {},
     "execution_count": 11
    }
   ],
   "source": [
    "vac[vac['cylinders'] == 4]['acceleration'].mean()"
   ]
  },
  {
   "source": [
    "# Data Visualization\n",
    "\n",
    "## Miles Per Gallon\n",
    "\n",
    "This data shows:\n",
    "\n",
    "1. On average, 8 cylinder engines get fewer miles per gallon than 6 cylinder engines and 4 cylinder engines get the best miles per gallon.\n",
    "2. On average, 8 cylinder engines have a lower acceleration than 6 cylinders and 4 cylinders have the fastest acceleration.\n",
    "\n",
    "Conclusion: Despite my previous belief that a higher cylinder count would be a direct cause for higher performance, this data seems to suggest that a higher cylinder count actually decreases both acceleration and efficiency."
   ],
   "cell_type": "markdown",
   "metadata": {}
  }
 ]
}